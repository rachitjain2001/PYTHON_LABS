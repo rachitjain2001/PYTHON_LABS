{
 "cells": [
  {
   "cell_type": "markdown",
   "metadata": {},
   "source": [
    "# LAB-8"
   ]
  },
  {
   "cell_type": "markdown",
   "metadata": {},
   "source": [
    "1.Write a Python program that create a class tringle and define two methods, create_triangle() and print_sides()."
   ]
  },
  {
   "cell_type": "code",
   "execution_count": 1,
   "metadata": {},
   "outputs": [
    {
     "name": "stdout",
     "output_type": "stream",
     "text": [
      "Sides of Triangle are: 10, 20 and 30\n"
     ]
    }
   ],
   "source": [
    "class Triangle:\n",
    "    a = 0\n",
    "    b = 0 \n",
    "    c = 0\n",
    "    def create_triangle(self, x, y, z):\n",
    "        self.a = x\n",
    "        self.b = y\n",
    "        self.c = z\n",
    "    def print_sides(self):\n",
    "        print(\"Sides of Triangle are: {}, {} and {}\".format(self.a, self.b, self.c))\n",
    "obj = Triangle()\n",
    "obj.create_triangle(10, 20, 30)\n",
    "obj.print_sides()"
   ]
  },
  {
   "cell_type": "markdown",
   "metadata": {},
   "source": [
    "2. Write a Python program to create a class with two methods get_String() and print_String()."
   ]
  },
  {
   "cell_type": "code",
   "execution_count": 3,
   "metadata": {},
   "outputs": [
    {
     "name": "stdout",
     "output_type": "stream",
     "text": [
      "Using get_String: Hello, Rachit!\n",
      "Using print_String: Hello, Rachit!\n"
     ]
    }
   ],
   "source": [
    "class Method:\n",
    "    string = ''\n",
    "    def __init__(self, new_str):\n",
    "        self.string = new_str\n",
    "    def get_String(self):\n",
    "        return self.string\n",
    "    def print_String(self):\n",
    "        print(\"Using print_String: {}\".format(self.string))\n",
    "\n",
    "str_obj = Method(\"Hello, Rachit!\")\n",
    "obj = str_obj.get_String()\n",
    "print(\"Using get_String: {}\".format(obj))\n",
    "str_obj.print_String()"
   ]
  },
  {
   "cell_type": "markdown",
   "metadata": {},
   "source": [
    "3. Write a Python program to create a class Rectangle that takes the parameter length and width. The class should also contain a method for computing its perimeter."
   ]
  },
  {
   "cell_type": "code",
   "execution_count": 4,
   "metadata": {},
   "outputs": [
    {
     "name": "stdout",
     "output_type": "stream",
     "text": [
      "Perimeter of Rectangle is : 60\n"
     ]
    }
   ],
   "source": [
    "class Rectangle:\n",
    "    length = 0\n",
    "    width = 0\n",
    "    def __init__(self, l, w):\n",
    "        self.length = l\n",
    "        self.width = w\n",
    "    def perimeter(self):\n",
    "        return 2 * (self.length + self.width)\n",
    "\n",
    "rect = Rectangle(10, 20)\n",
    "print(\"Perimeter of Rectangle is : {}\".format(rect.perimeter()))"
   ]
  },
  {
   "cell_type": "markdown",
   "metadata": {},
   "source": [
    "4.  Write a Python program to create a class Circle  that takes the parameter radius. The class should also contain two methods for computing its area & perimeter respectively. Use constructor to implement initialization of parameters"
   ]
  },
  {
   "cell_type": "code",
   "execution_count": 5,
   "metadata": {},
   "outputs": [
    {
     "name": "stdout",
     "output_type": "stream",
     "text": [
      "Perimeter of Circle is: 31.42\n",
      "Area of Circle is: 78.54\n"
     ]
    }
   ],
   "source": [
    "import math as m\n",
    "class Circle:\n",
    "    radius = 0.0\n",
    "    def __init__(self, r):\n",
    "        self.radius = r\n",
    "    def area(self):\n",
    "        return m.pi * pow(self.radius, 2)\n",
    "    def perimeter(self):\n",
    "        return 2 * m.pi * self.radius\n",
    "\n",
    "circle_obj = Circle(5)\n",
    "print(\"Perimeter of Circle is: {:.2f}\".format(circle_obj.perimeter()))\n",
    "print(\"Area of Circle is: {:.2f}\".format(circle_obj.area()))"
   ]
  },
  {
   "cell_type": "markdown",
   "metadata": {},
   "source": [
    "5. Create a Cricle class and intialize it with radius. Make two methods getArea and getCircumference inside this class."
   ]
  },
  {
   "cell_type": "code",
   "execution_count": 6,
   "metadata": {},
   "outputs": [
    {
     "name": "stdout",
     "output_type": "stream",
     "text": [
      "Area: 28.27\n",
      "Perimeter: 18.85\n"
     ]
    }
   ],
   "source": [
    "class Circle:\n",
    "    radius = 3\n",
    "    def getArea(self):\n",
    "        return m.pi * pow(self.radius, 2)\n",
    "    def getCircumference(self):\n",
    "        return 2 * m.pi * self.radius\n",
    "\n",
    "obj = Circle()\n",
    "print(\"Area: {:.2f}\".format(obj.getArea()))\n",
    "print(\"Perimeter: {:.2f}\".format(obj.getCircumference()))"
   ]
  },
  {
   "cell_type": "markdown",
   "metadata": {},
   "source": [
    "Q6. Create a Temprature class. Make two methods :\n",
    "1.convertFahrenheit - It will take celsius and will print it into Fahrenheit.\n",
    "2.convertCelsius - It will take Fahrenheit and will convert it into Celsius.\n"
   ]
  },
  {
   "cell_type": "code",
   "execution_count": 8,
   "metadata": {},
   "outputs": [
    {
     "name": "stdout",
     "output_type": "stream",
     "text": [
      "Celsius to Fahrenheit: 212.0\n",
      "Fahrenheit to Celsius: 100.0\n"
     ]
    }
   ],
   "source": [
    "class Temperature:\n",
    "    def convertFahrenheit(self, C):\n",
    "        F = (C * 1.8) + 32\n",
    "        return F\n",
    "\n",
    "    def convertCelsius(self, F):\n",
    "        C = (F - 32) * 5/9\n",
    "        return C\n",
    "\n",
    "obj = Temperature()\n",
    "print(\"Celsius to Fahrenheit: {}\".format(obj.convertFahrenheit(100)))\n",
    "print(\"Fahrenheit to Celsius: {}\".format(obj.convertCelsius(212)))"
   ]
  },
  {
   "cell_type": "markdown",
   "metadata": {},
   "source": [
    "Q7.Create a Student class and initialize it with name and roll number. Make methods to :\n",
    "1. Display - It should display all informations of the student.\n",
    "2. setAge - It should assign age to student\n",
    "3. setMarks - It should assign marks to the student.\n"
   ]
  },
  {
   "cell_type": "code",
   "execution_count": 9,
   "metadata": {},
   "outputs": [
    {
     "name": "stdout",
     "output_type": "stream",
     "text": [
      "Name: Rachit, Roll no: 1161, Age: None, Marks: None\n",
      "Name: Rachit, Roll no: 1161, Age: 19, Marks: 99\n"
     ]
    }
   ],
   "source": [
    "class Student:\n",
    "    name = ''\n",
    "    rno = 0\n",
    "    age = None\n",
    "    marks = None\n",
    "    def __init__(self, name, rno):\n",
    "        self.name = name\n",
    "        self.rno = rno\n",
    "\n",
    "    def disp(self):\n",
    "        print(\"Name: {}, Roll no: {}, Age: {}, Marks: {}\".format(self.name, self.rno, self.age, self.marks))\n",
    "    def setAge(self, age):\n",
    "        self.age = age\n",
    "\n",
    "    def setMarks(self, marks):\n",
    "        self.marks = marks\n",
    "\n",
    "stud = Student(\"Rachit\", 1161)\n",
    "stud.disp()\n",
    "stud.setAge(19)\n",
    "stud.setMarks(99)\n",
    "stud.disp()"
   ]
  },
  {
   "cell_type": "markdown",
   "metadata": {},
   "source": [
    "Q8.Create a Time class and initialize it with hours and minutes.\n",
    "1. Make a method addTime which should take two time object and add them. E.g.- (2 hour and 50 min)+(1 hr and 20 min) is (4 hr and 10 min)\n",
    "2. Make a method displayTime which should print the time.\n",
    "3. Make a method DisplayMinute which should display the total minutes in the Time. E.g.- (1 hr 2 min) should display 62 minute.\n"
   ]
  },
  {
   "cell_type": "code",
   "execution_count": 10,
   "metadata": {},
   "outputs": [
    {
     "ename": "SyntaxError",
     "evalue": "Missing parentheses in call to 'print'. Did you mean print(\"Time is\",self.hours,\"hours and\",self.mins,\"minutes.\")? (<ipython-input-10-cfd16e4fe64d>, line 16)",
     "output_type": "error",
     "traceback": [
      "\u001b[1;36m  File \u001b[1;32m\"<ipython-input-10-cfd16e4fe64d>\"\u001b[1;36m, line \u001b[1;32m16\u001b[0m\n\u001b[1;33m    print \"Time is\",self.hours,\"hours and\",self.mins,\"minutes.\"\u001b[0m\n\u001b[1;37m          ^\u001b[0m\n\u001b[1;31mSyntaxError\u001b[0m\u001b[1;31m:\u001b[0m Missing parentheses in call to 'print'. Did you mean print(\"Time is\",self.hours,\"hours and\",self.mins,\"minutes.\")?\n"
     ]
    }
   ],
   "source": [
    "class Time():\n",
    "\n",
    "  def __init__(self, hours, mins):\n",
    "    self.hours = hours\n",
    "    self.mins = mins\n",
    "\n",
    "  def addTime(t1, t2):\n",
    "    t3 = Time(0,0)\n",
    "    if t1.mins+t2.mins > 60:\n",
    "      t3.hours = (t1.mins+t2.mins)/60\n",
    "    t3.hours = t3.hours+t1.hours+t2.hours\n",
    "    t3.mins = (t1.mins+t2.mins)-(((t1.mins+t2.mins)/60)*60)\n",
    "    return t3\n",
    "\n",
    "  def displayTime(self):\n",
    "    print \"Time is\",self.hours,\"hours and\",self.mins,\"minutes.\"\n",
    "\n",
    "  def displayMinute(self):\n",
    "    print (self.hours*60)+self.mins\n",
    "\n",
    "a = Time(2,50)\n",
    "b = Time(1,20)\n",
    "c = Time.addTime(a,b)\n",
    "c.displayTime()\n",
    "c.displayMinute()"
   ]
  },
  {
   "cell_type": "markdown",
   "metadata": {},
   "source": [
    "Q9. Write a Python class to reverse a string word by word."
   ]
  },
  {
   "cell_type": "code",
   "execution_count": 12,
   "metadata": {},
   "outputs": [
    {
     "name": "stdout",
     "output_type": "stream",
     "text": [
      "JAIN RACHIT\n"
     ]
    }
   ],
   "source": [
    "class Rev:\n",
    "    def __init__(self, sentence):\n",
    "        self.sentence = sentence\n",
    "    \n",
    "    def reverseString(self):\n",
    "        var = self.sentence.split()\n",
    "        var.reverse()\n",
    "        print(\" \".join(var))\n",
    "\n",
    "obj = Rev(\"RACHIT JAIN\")\n",
    "obj.reverseString()"
   ]
  },
  {
   "cell_type": "code",
   "execution_count": null,
   "metadata": {},
   "outputs": [],
   "source": []
  }
 ],
 "metadata": {
  "kernelspec": {
   "display_name": "Python 3",
   "language": "python",
   "name": "python3"
  },
  "language_info": {
   "codemirror_mode": {
    "name": "ipython",
    "version": 3
   },
   "file_extension": ".py",
   "mimetype": "text/x-python",
   "name": "python",
   "nbconvert_exporter": "python",
   "pygments_lexer": "ipython3",
   "version": "3.9.0"
  }
 },
 "nbformat": 4,
 "nbformat_minor": 4
}
